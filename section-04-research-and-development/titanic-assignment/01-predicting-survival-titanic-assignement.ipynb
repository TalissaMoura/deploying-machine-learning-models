{
 "cells": [
  {
   "attachments": {},
   "cell_type": "markdown",
   "metadata": {},
   "source": [
    "## Predicting Survival on the Titanic\n",
    "\n",
    "### History\n",
    "Perhaps one of the most infamous shipwrecks in history, the Titanic sank after colliding with an iceberg, killing 1502 out of 2224 people on board. Interestingly, by analysing the probability of survival based on few attributes like gender, age, and social status, we can make very accurate predictions on which passengers would survive. Some groups of people were more likely to survive than others, such as women, children, and the upper-class. Therefore, we can learn about the society priorities and privileges at the time.\n",
    "\n",
    "### Assignment:\n",
    "\n",
    "Build a Machine Learning Pipeline, to engineer the features in the data set and predict who is more likely to Survive the catastrophe.\n",
    "\n",
    "Follow the Jupyter notebook below, and complete the missing bits of code, to achieve each one of the pipeline steps."
   ]
  },
  {
   "cell_type": "code",
   "execution_count": 1,
   "metadata": {},
   "outputs": [],
   "source": [
    "import re\n",
    "\n",
    "# to handle datasets\n",
    "import pandas as pd\n",
    "import numpy as np\n",
    "\n",
    "# for visualization\n",
    "import matplotlib.pyplot as plt\n",
    "\n",
    "# to divide train and test set\n",
    "from sklearn.model_selection import train_test_split\n",
    "\n",
    "# feature scaling\n",
    "from sklearn.preprocessing import StandardScaler\n",
    "\n",
    "# to build the models\n",
    "from sklearn.linear_model import LogisticRegression\n",
    "\n",
    "# to evaluate the models\n",
    "from sklearn.metrics import accuracy_score, roc_auc_score\n",
    "\n",
    "# to persist the model and the scaler\n",
    "import joblib\n",
    "\n",
    "# to visualise al the columns in the dataframe\n",
    "pd.pandas.set_option('display.max_columns', None)"
   ]
  },
  {
   "attachments": {},
   "cell_type": "markdown",
   "metadata": {},
   "source": [
    "## Prepare the data set"
   ]
  },
  {
   "cell_type": "code",
   "execution_count": null,
   "metadata": {},
   "outputs": [],
   "source": [
    "# load the data - it is available open source and online\n",
    "\n",
    "data = pd.read_csv('https://www.openml.org/data/get_csv/16826755/phpMYEkMl')\n",
    "\n",
    "# display data\n",
    "data.head()"
   ]
  },
  {
   "cell_type": "code",
   "execution_count": null,
   "metadata": {},
   "outputs": [],
   "source": [
    "# replace interrogation marks by NaN values\n",
    "\n",
    "data = data.replace('?', np.nan)"
   ]
  },
  {
   "cell_type": "code",
   "execution_count": null,
   "metadata": {},
   "outputs": [],
   "source": [
    "# retain only the first cabin if more than\n",
    "# 1 are available per passenger\n",
    "\n",
    "def get_first_cabin(row):\n",
    "    try:\n",
    "        return row.split()[0]\n",
    "    except:\n",
    "        return np.nan\n",
    "    \n",
    "data['cabin'] = data['cabin'].apply(get_first_cabin)"
   ]
  },
  {
   "cell_type": "code",
   "execution_count": null,
   "metadata": {},
   "outputs": [],
   "source": [
    "# extracts the title (Mr, Ms, etc) from the name variable\n",
    "\n",
    "def get_title(passenger):\n",
    "    line = passenger\n",
    "    if re.search('Mrs', line):\n",
    "        return 'Mrs'\n",
    "    elif re.search('Mr', line):\n",
    "        return 'Mr'\n",
    "    elif re.search('Miss', line):\n",
    "        return 'Miss'\n",
    "    elif re.search('Master', line):\n",
    "        return 'Master'\n",
    "    else:\n",
    "        return 'Other'\n",
    "    \n",
    "data['title'] = data['name'].apply(get_title)"
   ]
  },
  {
   "cell_type": "code",
   "execution_count": null,
   "metadata": {},
   "outputs": [],
   "source": [
    "# cast numerical variables as floats\n",
    "\n",
    "data['fare'] = data['fare'].astype('float')\n",
    "data['age'] = data['age'].astype('float')"
   ]
  },
  {
   "cell_type": "code",
   "execution_count": null,
   "metadata": {},
   "outputs": [],
   "source": [
    "# drop unnecessary variables\n",
    "\n",
    "data.drop(labels=['name','ticket', 'boat', 'body','home.dest'], axis=1, inplace=True)\n",
    "\n",
    "# display data\n",
    "data.head()"
   ]
  },
  {
   "cell_type": "code",
   "execution_count": null,
   "metadata": {},
   "outputs": [],
   "source": [
    "# save the data set\n",
    "\n",
    "data.to_csv('titanic.csv', index=False)"
   ]
  },
  {
   "cell_type": "code",
   "execution_count": 2,
   "metadata": {},
   "outputs": [],
   "source": [
    "## read final dataframe\n",
    "data = pd.read_csv(\"titanic.csv\")"
   ]
  },
  {
   "attachments": {},
   "cell_type": "markdown",
   "metadata": {},
   "source": [
    "## Data Exploration\n",
    "\n",
    "### Find numerical and categorical variables"
   ]
  },
  {
   "cell_type": "code",
   "execution_count": 3,
   "metadata": {},
   "outputs": [],
   "source": [
    "target = 'survived'"
   ]
  },
  {
   "cell_type": "code",
   "execution_count": 4,
   "metadata": {},
   "outputs": [
    {
     "data": {
      "text/plain": [
       "pclass        int64\n",
       "survived      int64\n",
       "sex          object\n",
       "age         float64\n",
       "sibsp         int64\n",
       "parch         int64\n",
       "fare        float64\n",
       "cabin        object\n",
       "embarked     object\n",
       "title        object\n",
       "dtype: object"
      ]
     },
     "execution_count": 4,
     "metadata": {},
     "output_type": "execute_result"
    }
   ],
   "source": [
    "## seeing dtypes\n",
    "data.dtypes"
   ]
  },
  {
   "cell_type": "code",
   "execution_count": 5,
   "metadata": {},
   "outputs": [
    {
     "name": "stdout",
     "output_type": "stream",
     "text": [
      "Number of numerical variables: 6\n",
      "Numerical vars:  ['pclass', 'survived', 'age', 'sibsp', 'parch', 'fare']\n",
      "Number of categorical variables: 4\n",
      "Categorical vars:  ['sex', 'cabin', 'embarked', 'title']\n"
     ]
    }
   ],
   "source": [
    "vars_cat = data.select_dtypes(include='object').columns.to_list()\n",
    "\n",
    "vars_num = [col for col in data.columns if col not in vars_cat]\n",
    "\n",
    "\n",
    "print('Number of numerical variables: {}'.format(len(vars_num)))\n",
    "print('Numerical vars: ', vars_num)\n",
    "print('Number of categorical variables: {}'.format(len(vars_cat)))\n",
    "print('Categorical vars: ',vars_cat)\n",
    "\n"
   ]
  },
  {
   "attachments": {},
   "cell_type": "markdown",
   "metadata": {},
   "source": [
    "### Find missing values in variables"
   ]
  },
  {
   "cell_type": "code",
   "execution_count": 6,
   "metadata": {},
   "outputs": [
    {
     "data": {
      "text/plain": [
       "pclass      0.000000\n",
       "survived    0.000000\n",
       "age         0.200917\n",
       "sibsp       0.000000\n",
       "parch       0.000000\n",
       "fare        0.000764\n",
       "dtype: float64"
      ]
     },
     "execution_count": 6,
     "metadata": {},
     "output_type": "execute_result"
    }
   ],
   "source": [
    "# first in numerical variables\n",
    "\n",
    "## see if numeric values have nulls\n",
    "data[vars_num].isnull().sum()/data.shape[0]"
   ]
  },
  {
   "attachments": {},
   "cell_type": "markdown",
   "metadata": {},
   "source": [
    "Age and Fare, in the numeric values, are the ones with missing values. This can be replace by the mode or median. "
   ]
  },
  {
   "cell_type": "code",
   "execution_count": 7,
   "metadata": {},
   "outputs": [
    {
     "data": {
      "text/plain": [
       "sex         0.000000\n",
       "cabin       0.774637\n",
       "embarked    0.001528\n",
       "title       0.000000\n",
       "dtype: float64"
      ]
     },
     "execution_count": 7,
     "metadata": {},
     "output_type": "execute_result"
    }
   ],
   "source": [
    "# now in categorical variables\n",
    "\n",
    "data[vars_cat].isnull().sum()/data.shape[0]"
   ]
  },
  {
   "attachments": {},
   "cell_type": "markdown",
   "metadata": {},
   "source": [
    "So, most of missing values in the continous variables are in the cabin category. Embarked has missing values too but is below 5% so this values can be exclued."
   ]
  },
  {
   "attachments": {},
   "cell_type": "markdown",
   "metadata": {},
   "source": [
    "### Determine cardinality of categorical variables"
   ]
  },
  {
   "cell_type": "code",
   "execution_count": 8,
   "metadata": {},
   "outputs": [
    {
     "name": "stdout",
     "output_type": "stream",
     "text": [
      "{'sex': 2, 'cabin': 182, 'embarked': 4, 'title': 5}\n"
     ]
    }
   ],
   "source": [
    "card_vars_cat = {col:len(set(data[col])) for col in vars_cat}\n",
    "print(card_vars_cat)"
   ]
  },
  {
   "attachments": {},
   "cell_type": "markdown",
   "metadata": {},
   "source": [
    "### Determine the distribution of numerical variables"
   ]
  },
  {
   "cell_type": "code",
   "execution_count": 9,
   "metadata": {},
   "outputs": [
    {
     "data": {
      "image/png": "[encoded data removed]",
      "text/plain": [
       "<Figure size 1000x800 with 6 Axes>"
      ]
     },
     "metadata": {},
     "output_type": "display_data"
    }
   ],
   "source": [
    "data[vars_num].hist(bins=100,figsize=(10,8));\n"
   ]
  },
  {
   "attachments": {},
   "cell_type": "markdown",
   "metadata": {},
   "source": [
    "We can see that parch, pclass, survived, sibsp are all discrete variables. With parch and sibsp being very unbalanced\n",
    "Fare and age are continous with his distributions very skewed. Maybe by applying transformations makes them look more a like normal distribuition."
   ]
  },
  {
   "attachments": {},
   "cell_type": "markdown",
   "metadata": {},
   "source": [
    "## Separate data into train and test\n",
    "\n",
    "Use the code below for reproducibility. Don't change it."
   ]
  },
  {
   "cell_type": "code",
   "execution_count": 31,
   "metadata": {},
   "outputs": [
    {
     "data": {
      "text/plain": [
       "((1047, 9), (262, 9))"
      ]
     },
     "execution_count": 31,
     "metadata": {},
     "output_type": "execute_result"
    }
   ],
   "source": [
    "X_train, X_test, y_train, y_test = train_test_split(\n",
    "    data.drop('survived', axis=1),  # predictors\n",
    "    data['survived'],  # target\n",
    "    test_size=0.2,  # percentage of obs in test set\n",
    "    random_state=0)  # seed to ensure reproducibility\n",
    "\n",
    "X_train.shape, X_test.shape"
   ]
  },
  {
   "attachments": {},
   "cell_type": "markdown",
   "metadata": {},
   "source": [
    "## Feature Engineering\n",
    "\n",
    "### Extract only the letter (and drop the number) from the variable Cabin"
   ]
  },
  {
   "cell_type": "code",
   "execution_count": 32,
   "metadata": {},
   "outputs": [],
   "source": [
    "def search_letter(value):\n",
    "    try:\n",
    "        return re.match(pattern=r'([aA-zZ]+)',string=value).group(1)\n",
    "    except:\n",
    "        return np.nan\n",
    "\n",
    "vsearch_letter = np.vectorize(search_letter,otypes=['object'])\n",
    "\n",
    "# remove letters from cabin column\n",
    "clean_values_train = vsearch_letter(X_train['cabin'].values)\n",
    "clean_values_test = vsearch_letter(X_test['cabin'].values)\n",
    "\n",
    "\n",
    "X_train.loc[:,'cabin'] = clean_values_train\n",
    "X_test.loc[:,'cabin'] = clean_values_test"
   ]
  },
  {
   "cell_type": "code",
   "execution_count": 33,
   "metadata": {},
   "outputs": [
    {
     "name": "stdout",
     "output_type": "stream",
     "text": [
      "train: {'sex': 2, 'cabin': 8, 'embarked': 3, 'title': 5}\n",
      "test: {'sex': 2, 'cabin': 7, 'embarked': 3, 'title': 5}\n"
     ]
    }
   ],
   "source": [
    "# verify the final cardinality\n",
    "card_vars_cat_train = X_train[vars_cat].nunique().to_dict()\n",
    "print('train:',card_vars_cat_train)\n",
    "\n",
    "# verify the final cardinality\n",
    "card_vars_cat_test = X_test[vars_cat].nunique().to_dict()\n",
    "print('test:',card_vars_cat_test)"
   ]
  },
  {
   "attachments": {},
   "cell_type": "markdown",
   "metadata": {},
   "source": [
    "### Fill in Missing data in numerical variables:\n",
    "\n",
    "- Add a binary missing indicator\n",
    "- Fill NA in original variable with the median"
   ]
  },
  {
   "cell_type": "code",
   "execution_count": 24,
   "metadata": {},
   "outputs": [
    {
     "ename": "ValueError",
     "evalue": "list.remove(x): x not in list",
     "output_type": "error",
     "traceback": [
      "\u001b[0;31m---------------------------------------------------------------------------\u001b[0m",
      "\u001b[0;31mValueError\u001b[0m                                Traceback (most recent call last)",
      "\u001b[0;32m/tmp/ipykernel_17491/1890448503.py\u001b[0m in \u001b[0;36m<module>\u001b[0;34m\u001b[0m\n\u001b[1;32m      1\u001b[0m \u001b[0;31m## remove 'survived' from var_num because it's our target and we don't need to treat it\u001b[0m\u001b[0;34m\u001b[0m\u001b[0;34m\u001b[0m\u001b[0;34m\u001b[0m\u001b[0m\n\u001b[0;32m----> 2\u001b[0;31m \u001b[0mvars_num\u001b[0m\u001b[0;34m.\u001b[0m\u001b[0mremove\u001b[0m\u001b[0;34m(\u001b[0m\u001b[0;34m'survived'\u001b[0m\u001b[0;34m)\u001b[0m\u001b[0;34m\u001b[0m\u001b[0;34m\u001b[0m\u001b[0m\n\u001b[0m",
      "\u001b[0;31mValueError\u001b[0m: list.remove(x): x not in list"
     ]
    }
   ],
   "source": [
    "## remove 'survived' from var_num because it's our target and we don't need to treat it\n",
    "vars_num.remove('survived')"
   ]
  },
  {
   "cell_type": "code",
   "execution_count": 34,
   "metadata": {},
   "outputs": [
    {
     "name": "stdout",
     "output_type": "stream",
     "text": [
      "adding binary missing indicator for col age\n",
      "input median value: 28.0 in column age\n",
      "adding binary missing indicator for col fare\n",
      "input median value: 14.4542 in column fare\n"
     ]
    }
   ],
   "source": [
    "## find missing cols\n",
    "def fill_missing_cols(null_cols):\n",
    "    ## replace values \n",
    "    for col in null_cols:\n",
    "        ## add binary missing indicator\n",
    "        print(f'adding binary missing indicator for col {col}')\n",
    "        X_train[f'{col}_is_nan'] = np.where(pd.isnull(X_train[col]).values,1,0)\n",
    "        X_test[f'{col}_is_nan'] = np.where(pd.isnull(X_test[col]).values,1,0)\n",
    "        \n",
    "        ## fill na in original variable with the median\n",
    "        median = X_train[col].median()\n",
    "        print(f'input median value: {median} in column {col}')\n",
    "        X_train.loc[:,col] = np.where(pd.isnull(X_train[col]).values,median,X_train[col])\n",
    "        X_test.loc[:,col] = np.where(pd.isnull(X_test[col]).values,median,X_test[col])\n",
    "   \n",
    "\n",
    "null_cols = [col for col in vars_num if X_train[col].isnull().sum()>0]\n",
    "\n",
    "#fill num missing cols in X_train and X_test\n",
    "fill_missing_cols(null_cols)\n"
   ]
  },
  {
   "cell_type": "code",
   "execution_count": 35,
   "metadata": {},
   "outputs": [
    {
     "name": "stdout",
     "output_type": "stream",
     "text": [
      "Check null values in train\n",
      "{'pclass': 0.0, 'age': 0.0, 'sibsp': 0.0, 'parch': 0.0, 'fare': 0.0}\n",
      "Check null values in test\n",
      "{'pclass': 0.0, 'age': 0.0, 'sibsp': 0.0, 'parch': 0.0, 'fare': 0.0}\n"
     ]
    }
   ],
   "source": [
    "# checking null values \n",
    "print('Check null values in train')\n",
    "print((X_train[vars_num].isnull().sum()/X_train.shape[0]).to_dict())\n",
    "print('Check null values in test')\n",
    "print((X_test[vars_num].isnull().sum()/X_test.shape[0]).to_dict())"
   ]
  },
  {
   "attachments": {},
   "cell_type": "markdown",
   "metadata": {},
   "source": [
    "### Replace Missing data in categorical variables with the string **Missing**"
   ]
  },
  {
   "cell_type": "code",
   "execution_count": 36,
   "metadata": {},
   "outputs": [],
   "source": [
    "## find missing cols\n",
    "def fill_cat_missing_cols(null_cols):\n",
    "    ## replace values \n",
    "    for col in null_cols:\n",
    "        ## fill na in original variable with the median\n",
    "        X_train.loc[:,col] = np.where(pd.isnull(X_train[col]).values,'missing',X_train[col])\n",
    "        X_test.loc[:,col] = np.where(pd.isnull(X_test[col]).values,'missing',X_test[col])\n",
    "\n",
    "#fill cat missing cols in X_train\n",
    "null_cols = [col for col in vars_cat if X_train[col].isnull().sum()>0]\n",
    "\n",
    "# fill cat missing columns in X_train and X_test\n",
    "fill_cat_missing_cols(null_cols)\n"
   ]
  },
  {
   "cell_type": "code",
   "execution_count": 37,
   "metadata": {},
   "outputs": [
    {
     "name": "stdout",
     "output_type": "stream",
     "text": [
      "Check null values in train\n",
      "{'sex': 0.0, 'cabin': 0.0, 'embarked': 0.0, 'title': 0.0}\n",
      "Check null values in test\n",
      "{'sex': 0.0, 'cabin': 0.0, 'embarked': 0.0, 'title': 0.0}\n"
     ]
    }
   ],
   "source": [
    "# checking null values \n",
    "print('Check null values in train')\n",
    "print((X_train[vars_cat].isnull().sum()/X_train.shape[0]).to_dict())\n",
    "print('Check null values in test')\n",
    "print((X_test[vars_cat].isnull().sum()/X_test.shape[0]).to_dict())"
   ]
  },
  {
   "attachments": {},
   "cell_type": "markdown",
   "metadata": {},
   "source": [
    "### Remove rare labels in categorical variables\n",
    "\n",
    "- remove labels present in less than 5 % of the passengers"
   ]
  },
  {
   "cell_type": "code",
   "execution_count": 39,
   "metadata": {},
   "outputs": [],
   "source": [
    "from collections import defaultdict\n",
    "\n",
    "def find_rare_labels(dataframe,cat_labels,tolerance=0.05):\n",
    "    rare_labels = defaultdict(list)\n",
    "    qty_labels = {col:(dataframe[col].value_counts()/dataframe[col].shape[0]).to_dict() for col in cat_labels}\n",
    "    for cat in qty_labels:\n",
    "        for label,value in qty_labels[cat].items():\n",
    "            if value < tolerance:\n",
    "                rare_labels[cat].append(label)\n",
    "    return rare_labels\n",
    "\n",
    "\n",
    "# replace rare labels to 'Rare'\n",
    "rare_labels = find_rare_labels(X_train,vars_cat)\n",
    "for cat in rare_labels:\n",
    "    X_train.loc[:,cat] = np.where(X_train[cat].isin(rare_labels[cat]),'Rare',X_train[cat])\n",
    "    X_test.loc[:,cat] = np.where(X_test[cat].isin(rare_labels[cat]),'Rare',X_test[cat])"
   ]
  },
  {
   "cell_type": "code",
   "execution_count": 40,
   "metadata": {},
   "outputs": [
    {
     "name": "stdout",
     "output_type": "stream",
     "text": [
      "train: {'sex': 2, 'cabin': 3, 'embarked': 4, 'title': 4}\n",
      "test: {'sex': 2, 'cabin': 3, 'embarked': 3, 'title': 4}\n"
     ]
    }
   ],
   "source": [
    "# verify the final cardinality\n",
    "card_vars_cat_train = X_train[vars_cat].nunique().to_dict()\n",
    "print('train:',card_vars_cat_train)\n",
    "\n",
    "# verify the final cardinality\n",
    "card_vars_cat_test = X_test[vars_cat].nunique().to_dict()\n",
    "print('test:',card_vars_cat_test)"
   ]
  },
  {
   "cell_type": "code",
   "execution_count": 42,
   "metadata": {},
   "outputs": [
    {
     "name": "stdout",
     "output_type": "stream",
     "text": [
      "train labels:  {'Rare', 'S', 'Q', 'C'}\n",
      "test labels:  {'S', 'Q', 'C'}\n"
     ]
    }
   ],
   "source": [
    "# Checking for embarked labels \n",
    "print('train labels: ',set(X_train['embarked']))\n",
    "print('test labels: ', set(X_test['embarked']))\n",
    "\n",
    "# we see that we don't have rare labels in test, will need to add this column later"
   ]
  },
  {
   "attachments": {},
   "cell_type": "markdown",
   "metadata": {},
   "source": [
    "### Perform one hot encoding of categorical variables into k-1 binary variables\n",
    "\n",
    "- k-1, means that if the variable contains 9 different categories, we create 8 different binary variables\n",
    "- Remember to drop the original categorical variable (the one with the strings) after the encoding"
   ]
  },
  {
   "cell_type": "code",
   "execution_count": 43,
   "metadata": {},
   "outputs": [],
   "source": [
    "for cat in vars_cat:\n",
    "        # to create the binary variables, we use get_dummies from pandas\n",
    "        X_train = pd.concat([X_train,\n",
    "                         pd.get_dummies(X_train[cat], prefix=cat, drop_first=True)\n",
    "                         ], axis=1)\n",
    "        X_test = pd.concat([X_test,\n",
    "                        pd.get_dummies(X_test[cat], prefix=cat, drop_first=True)\n",
    "                        ], axis=1)\n"
   ]
  },
  {
   "cell_type": "code",
   "execution_count": 44,
   "metadata": {},
   "outputs": [
    {
     "data": {
      "text/plain": [
       "((1047, 16), (262, 15))"
      ]
     },
     "execution_count": 44,
     "metadata": {},
     "output_type": "execute_result"
    }
   ],
   "source": [
    "X_train = X_train.drop(labels=vars_cat, axis=1)\n",
    "X_test = X_test.drop(labels=vars_cat, axis=1)\n",
    "\n",
    "X_train.shape, X_test.shape"
   ]
  },
  {
   "cell_type": "code",
   "execution_count": 45,
   "metadata": {},
   "outputs": [
    {
     "name": "stdout",
     "output_type": "stream",
     "text": [
      "train columns:  Index(['pclass', 'age', 'sibsp', 'parch', 'fare', 'age_is_nan', 'fare_is_nan',\n",
      "       'sex_male', 'cabin_Rare', 'cabin_missing', 'embarked_Q',\n",
      "       'embarked_Rare', 'embarked_S', 'title_Mr', 'title_Mrs', 'title_Rare'],\n",
      "      dtype='object')\n",
      "test columns:  Index(['pclass', 'age', 'sibsp', 'parch', 'fare', 'age_is_nan', 'fare_is_nan',\n",
      "       'sex_male', 'cabin_Rare', 'cabin_missing', 'embarked_Q', 'embarked_S',\n",
      "       'title_Mr', 'title_Mrs', 'title_Rare'],\n",
      "      dtype='object')\n"
     ]
    }
   ],
   "source": [
    "print('train columns: ', X_train.columns)\n",
    "print('test columns: ',X_test.columns)"
   ]
  },
  {
   "cell_type": "code",
   "execution_count": 46,
   "metadata": {},
   "outputs": [],
   "source": [
    "# Creating embarked_Rare in test data \n",
    "X_test['embarked_Rare']=0"
   ]
  },
  {
   "cell_type": "code",
   "execution_count": 47,
   "metadata": {},
   "outputs": [
    {
     "name": "stdout",
     "output_type": "stream",
     "text": [
      "Check if we have equal columns in train and test: \n",
      "True\n",
      "Check for equal sizes in train sets: \n",
      "True\n",
      "Check for equal sizes in train sets: \n",
      "True\n"
     ]
    }
   ],
   "source": [
    "print('Check if we have equal columns in train and test: ')\n",
    "print(set(X_test.columns)==set(X_train.columns))\n",
    "\n",
    "print('Check for equal sizes in train sets: ')\n",
    "print(X_train.shape[0]==y_train.shape[0])\n",
    "\n",
    "print('Check for equal sizes in train sets: ')\n",
    "print(X_test.shape[0]==y_test.shape[0])"
   ]
  },
  {
   "cell_type": "code",
   "execution_count": 48,
   "metadata": {},
   "outputs": [
    {
     "data": {
      "text/html": [
       "<div>\n",
       "<style scoped>\n",
       "    .dataframe tbody tr th:only-of-type {\n",
       "        vertical-align: middle;\n",
       "    }\n",
       "\n",
       "    .dataframe tbody tr th {\n",
       "        vertical-align: top;\n",
       "    }\n",
       "\n",
       "    .dataframe thead th {\n",
       "        text-align: right;\n",
       "    }\n",
       "</style>\n",
       "<table border=\"1\" class=\"dataframe\">\n",
       "  <thead>\n",
       "    <tr style=\"text-align: right;\">\n",
       "      <th></th>\n",
       "      <th>pclass</th>\n",
       "      <th>age</th>\n",
       "      <th>sibsp</th>\n",
       "      <th>parch</th>\n",
       "      <th>fare</th>\n",
       "      <th>age_is_nan</th>\n",
       "      <th>fare_is_nan</th>\n",
       "      <th>sex_male</th>\n",
       "      <th>cabin_Rare</th>\n",
       "      <th>cabin_missing</th>\n",
       "      <th>embarked_Q</th>\n",
       "      <th>embarked_Rare</th>\n",
       "      <th>embarked_S</th>\n",
       "      <th>title_Mr</th>\n",
       "      <th>title_Mrs</th>\n",
       "      <th>title_Rare</th>\n",
       "    </tr>\n",
       "  </thead>\n",
       "  <tbody>\n",
       "    <tr>\n",
       "      <th>1118</th>\n",
       "      <td>3</td>\n",
       "      <td>25.0</td>\n",
       "      <td>0</td>\n",
       "      <td>0</td>\n",
       "      <td>7.9250</td>\n",
       "      <td>0</td>\n",
       "      <td>0</td>\n",
       "      <td>1</td>\n",
       "      <td>0</td>\n",
       "      <td>1</td>\n",
       "      <td>0</td>\n",
       "      <td>0</td>\n",
       "      <td>1</td>\n",
       "      <td>1</td>\n",
       "      <td>0</td>\n",
       "      <td>0</td>\n",
       "    </tr>\n",
       "    <tr>\n",
       "      <th>44</th>\n",
       "      <td>1</td>\n",
       "      <td>41.0</td>\n",
       "      <td>0</td>\n",
       "      <td>0</td>\n",
       "      <td>134.5000</td>\n",
       "      <td>0</td>\n",
       "      <td>0</td>\n",
       "      <td>0</td>\n",
       "      <td>1</td>\n",
       "      <td>0</td>\n",
       "      <td>0</td>\n",
       "      <td>0</td>\n",
       "      <td>0</td>\n",
       "      <td>0</td>\n",
       "      <td>0</td>\n",
       "      <td>0</td>\n",
       "    </tr>\n",
       "    <tr>\n",
       "      <th>1072</th>\n",
       "      <td>3</td>\n",
       "      <td>28.0</td>\n",
       "      <td>0</td>\n",
       "      <td>0</td>\n",
       "      <td>7.7333</td>\n",
       "      <td>1</td>\n",
       "      <td>0</td>\n",
       "      <td>1</td>\n",
       "      <td>0</td>\n",
       "      <td>1</td>\n",
       "      <td>1</td>\n",
       "      <td>0</td>\n",
       "      <td>0</td>\n",
       "      <td>1</td>\n",
       "      <td>0</td>\n",
       "      <td>0</td>\n",
       "    </tr>\n",
       "    <tr>\n",
       "      <th>1130</th>\n",
       "      <td>3</td>\n",
       "      <td>18.0</td>\n",
       "      <td>0</td>\n",
       "      <td>0</td>\n",
       "      <td>7.7750</td>\n",
       "      <td>0</td>\n",
       "      <td>0</td>\n",
       "      <td>0</td>\n",
       "      <td>0</td>\n",
       "      <td>1</td>\n",
       "      <td>0</td>\n",
       "      <td>0</td>\n",
       "      <td>1</td>\n",
       "      <td>0</td>\n",
       "      <td>0</td>\n",
       "      <td>0</td>\n",
       "    </tr>\n",
       "    <tr>\n",
       "      <th>574</th>\n",
       "      <td>2</td>\n",
       "      <td>29.0</td>\n",
       "      <td>1</td>\n",
       "      <td>0</td>\n",
       "      <td>21.0000</td>\n",
       "      <td>0</td>\n",
       "      <td>0</td>\n",
       "      <td>1</td>\n",
       "      <td>0</td>\n",
       "      <td>1</td>\n",
       "      <td>0</td>\n",
       "      <td>0</td>\n",
       "      <td>1</td>\n",
       "      <td>1</td>\n",
       "      <td>0</td>\n",
       "      <td>0</td>\n",
       "    </tr>\n",
       "  </tbody>\n",
       "</table>\n",
       "</div>"
      ],
      "text/plain": [
       "      pclass   age  sibsp  parch      fare  age_is_nan  fare_is_nan  sex_male  \\\n",
       "1118       3  25.0      0      0    7.9250           0            0         1   \n",
       "44         1  41.0      0      0  134.5000           0            0         0   \n",
       "1072       3  28.0      0      0    7.7333           1            0         1   \n",
       "1130       3  18.0      0      0    7.7750           0            0         0   \n",
       "574        2  29.0      1      0   21.0000           0            0         1   \n",
       "\n",
       "      cabin_Rare  cabin_missing  embarked_Q  embarked_Rare  embarked_S  \\\n",
       "1118           0              1           0              0           1   \n",
       "44             1              0           0              0           0   \n",
       "1072           0              1           1              0           0   \n",
       "1130           0              1           0              0           1   \n",
       "574            0              1           0              0           1   \n",
       "\n",
       "      title_Mr  title_Mrs  title_Rare  \n",
       "1118         1          0           0  \n",
       "44           0          0           0  \n",
       "1072         1          0           0  \n",
       "1130         0          0           0  \n",
       "574          1          0           0  "
      ]
     },
     "execution_count": 48,
     "metadata": {},
     "output_type": "execute_result"
    }
   ],
   "source": [
    "X_train.head()"
   ]
  },
  {
   "cell_type": "code",
   "execution_count": 49,
   "metadata": {},
   "outputs": [
    {
     "data": {
      "text/html": [
       "<div>\n",
       "<style scoped>\n",
       "    .dataframe tbody tr th:only-of-type {\n",
       "        vertical-align: middle;\n",
       "    }\n",
       "\n",
       "    .dataframe tbody tr th {\n",
       "        vertical-align: top;\n",
       "    }\n",
       "\n",
       "    .dataframe thead th {\n",
       "        text-align: right;\n",
       "    }\n",
       "</style>\n",
       "<table border=\"1\" class=\"dataframe\">\n",
       "  <thead>\n",
       "    <tr style=\"text-align: right;\">\n",
       "      <th></th>\n",
       "      <th>pclass</th>\n",
       "      <th>age</th>\n",
       "      <th>sibsp</th>\n",
       "      <th>parch</th>\n",
       "      <th>fare</th>\n",
       "      <th>age_is_nan</th>\n",
       "      <th>fare_is_nan</th>\n",
       "      <th>sex_male</th>\n",
       "      <th>cabin_Rare</th>\n",
       "      <th>cabin_missing</th>\n",
       "      <th>embarked_Q</th>\n",
       "      <th>embarked_S</th>\n",
       "      <th>title_Mr</th>\n",
       "      <th>title_Mrs</th>\n",
       "      <th>title_Rare</th>\n",
       "      <th>embarked_Rare</th>\n",
       "    </tr>\n",
       "  </thead>\n",
       "  <tbody>\n",
       "    <tr>\n",
       "      <th>1139</th>\n",
       "      <td>3</td>\n",
       "      <td>38.0</td>\n",
       "      <td>0</td>\n",
       "      <td>0</td>\n",
       "      <td>7.8958</td>\n",
       "      <td>0</td>\n",
       "      <td>0</td>\n",
       "      <td>1</td>\n",
       "      <td>0</td>\n",
       "      <td>1</td>\n",
       "      <td>0</td>\n",
       "      <td>1</td>\n",
       "      <td>1</td>\n",
       "      <td>0</td>\n",
       "      <td>0</td>\n",
       "      <td>0</td>\n",
       "    </tr>\n",
       "    <tr>\n",
       "      <th>533</th>\n",
       "      <td>2</td>\n",
       "      <td>21.0</td>\n",
       "      <td>0</td>\n",
       "      <td>1</td>\n",
       "      <td>21.0000</td>\n",
       "      <td>0</td>\n",
       "      <td>0</td>\n",
       "      <td>0</td>\n",
       "      <td>0</td>\n",
       "      <td>1</td>\n",
       "      <td>0</td>\n",
       "      <td>1</td>\n",
       "      <td>0</td>\n",
       "      <td>0</td>\n",
       "      <td>0</td>\n",
       "      <td>0</td>\n",
       "    </tr>\n",
       "    <tr>\n",
       "      <th>459</th>\n",
       "      <td>2</td>\n",
       "      <td>42.0</td>\n",
       "      <td>1</td>\n",
       "      <td>0</td>\n",
       "      <td>27.0000</td>\n",
       "      <td>0</td>\n",
       "      <td>0</td>\n",
       "      <td>1</td>\n",
       "      <td>0</td>\n",
       "      <td>1</td>\n",
       "      <td>0</td>\n",
       "      <td>1</td>\n",
       "      <td>1</td>\n",
       "      <td>0</td>\n",
       "      <td>0</td>\n",
       "      <td>0</td>\n",
       "    </tr>\n",
       "    <tr>\n",
       "      <th>1150</th>\n",
       "      <td>3</td>\n",
       "      <td>28.0</td>\n",
       "      <td>0</td>\n",
       "      <td>0</td>\n",
       "      <td>14.5000</td>\n",
       "      <td>1</td>\n",
       "      <td>0</td>\n",
       "      <td>1</td>\n",
       "      <td>0</td>\n",
       "      <td>1</td>\n",
       "      <td>0</td>\n",
       "      <td>1</td>\n",
       "      <td>1</td>\n",
       "      <td>0</td>\n",
       "      <td>0</td>\n",
       "      <td>0</td>\n",
       "    </tr>\n",
       "    <tr>\n",
       "      <th>393</th>\n",
       "      <td>2</td>\n",
       "      <td>25.0</td>\n",
       "      <td>0</td>\n",
       "      <td>0</td>\n",
       "      <td>31.5000</td>\n",
       "      <td>0</td>\n",
       "      <td>0</td>\n",
       "      <td>1</td>\n",
       "      <td>0</td>\n",
       "      <td>1</td>\n",
       "      <td>0</td>\n",
       "      <td>1</td>\n",
       "      <td>1</td>\n",
       "      <td>0</td>\n",
       "      <td>0</td>\n",
       "      <td>0</td>\n",
       "    </tr>\n",
       "  </tbody>\n",
       "</table>\n",
       "</div>"
      ],
      "text/plain": [
       "      pclass   age  sibsp  parch     fare  age_is_nan  fare_is_nan  sex_male  \\\n",
       "1139       3  38.0      0      0   7.8958           0            0         1   \n",
       "533        2  21.0      0      1  21.0000           0            0         0   \n",
       "459        2  42.0      1      0  27.0000           0            0         1   \n",
       "1150       3  28.0      0      0  14.5000           1            0         1   \n",
       "393        2  25.0      0      0  31.5000           0            0         1   \n",
       "\n",
       "      cabin_Rare  cabin_missing  embarked_Q  embarked_S  title_Mr  title_Mrs  \\\n",
       "1139           0              1           0           1         1          0   \n",
       "533            0              1           0           1         0          0   \n",
       "459            0              1           0           1         1          0   \n",
       "1150           0              1           0           1         1          0   \n",
       "393            0              1           0           1         1          0   \n",
       "\n",
       "      title_Rare  embarked_Rare  \n",
       "1139           0              0  \n",
       "533            0              0  \n",
       "459            0              0  \n",
       "1150           0              0  \n",
       "393            0              0  "
      ]
     },
     "execution_count": 49,
     "metadata": {},
     "output_type": "execute_result"
    }
   ],
   "source": [
    "X_test.head()"
   ]
  },
  {
   "attachments": {},
   "cell_type": "markdown",
   "metadata": {},
   "source": [
    "### Scale the variables\n",
    "\n",
    "- Use the standard scaler from Scikit-learn"
   ]
  },
  {
   "cell_type": "code",
   "execution_count": 50,
   "metadata": {},
   "outputs": [],
   "source": [
    "# create scaler\n",
    "scaler = StandardScaler()\n",
    "\n",
    "#  fit  the scaler to the train set\n",
    "scaler.fit(X_train) \n",
    "\n",
    "# transform the train and test set\n",
    "\n",
    "# sklearn returns numpy arrays, so we wrap the\n",
    "# array with a pandas dataframe\n",
    "\n",
    "X_train = pd.DataFrame(\n",
    "    scaler.transform(X_train),\n",
    "    columns=X_train.columns\n",
    ")\n",
    "\n",
    "X_test = pd.DataFrame(\n",
    "    scaler.transform(X_test),\n",
    "    columns=X_test.columns\n",
    ")"
   ]
  },
  {
   "cell_type": "code",
   "execution_count": 51,
   "metadata": {},
   "outputs": [
    {
     "data": {
      "text/html": [
       "<div>\n",
       "<style scoped>\n",
       "    .dataframe tbody tr th:only-of-type {\n",
       "        vertical-align: middle;\n",
       "    }\n",
       "\n",
       "    .dataframe tbody tr th {\n",
       "        vertical-align: top;\n",
       "    }\n",
       "\n",
       "    .dataframe thead th {\n",
       "        text-align: right;\n",
       "    }\n",
       "</style>\n",
       "<table border=\"1\" class=\"dataframe\">\n",
       "  <thead>\n",
       "    <tr style=\"text-align: right;\">\n",
       "      <th></th>\n",
       "      <th>pclass</th>\n",
       "      <th>age</th>\n",
       "      <th>sibsp</th>\n",
       "      <th>parch</th>\n",
       "      <th>fare</th>\n",
       "      <th>age_is_nan</th>\n",
       "      <th>fare_is_nan</th>\n",
       "      <th>sex_male</th>\n",
       "      <th>cabin_Rare</th>\n",
       "      <th>cabin_missing</th>\n",
       "      <th>embarked_Q</th>\n",
       "      <th>embarked_Rare</th>\n",
       "      <th>embarked_S</th>\n",
       "      <th>title_Mr</th>\n",
       "      <th>title_Mrs</th>\n",
       "      <th>title_Rare</th>\n",
       "    </tr>\n",
       "  </thead>\n",
       "  <tbody>\n",
       "    <tr>\n",
       "      <th>0</th>\n",
       "      <td>0.835808</td>\n",
       "      <td>-0.370162</td>\n",
       "      <td>-0.478911</td>\n",
       "      <td>-0.455423</td>\n",
       "      <td>-0.504782</td>\n",
       "      <td>-0.494921</td>\n",
       "      <td>-0.03092</td>\n",
       "      <td>0.761042</td>\n",
       "      <td>-0.434076</td>\n",
       "      <td>0.551235</td>\n",
       "      <td>-0.319539</td>\n",
       "      <td>-0.043748</td>\n",
       "      <td>0.639650</td>\n",
       "      <td>0.869892</td>\n",
       "      <td>-0.435629</td>\n",
       "      <td>-0.275778</td>\n",
       "    </tr>\n",
       "    <tr>\n",
       "      <th>1</th>\n",
       "      <td>-1.542157</td>\n",
       "      <td>0.904029</td>\n",
       "      <td>-0.478911</td>\n",
       "      <td>-0.455423</td>\n",
       "      <td>1.971555</td>\n",
       "      <td>-0.494921</td>\n",
       "      <td>-0.03092</td>\n",
       "      <td>-1.313987</td>\n",
       "      <td>2.303742</td>\n",
       "      <td>-1.814107</td>\n",
       "      <td>-0.319539</td>\n",
       "      <td>-0.043748</td>\n",
       "      <td>-1.563355</td>\n",
       "      <td>-1.149569</td>\n",
       "      <td>-0.435629</td>\n",
       "      <td>-0.275778</td>\n",
       "    </tr>\n",
       "    <tr>\n",
       "      <th>2</th>\n",
       "      <td>0.835808</td>\n",
       "      <td>-0.131251</td>\n",
       "      <td>-0.478911</td>\n",
       "      <td>-0.455423</td>\n",
       "      <td>-0.508533</td>\n",
       "      <td>2.020526</td>\n",
       "      <td>-0.03092</td>\n",
       "      <td>0.761042</td>\n",
       "      <td>-0.434076</td>\n",
       "      <td>0.551235</td>\n",
       "      <td>3.129507</td>\n",
       "      <td>-0.043748</td>\n",
       "      <td>-1.563355</td>\n",
       "      <td>0.869892</td>\n",
       "      <td>-0.435629</td>\n",
       "      <td>-0.275778</td>\n",
       "    </tr>\n",
       "    <tr>\n",
       "      <th>3</th>\n",
       "      <td>0.835808</td>\n",
       "      <td>-0.927621</td>\n",
       "      <td>-0.478911</td>\n",
       "      <td>-0.455423</td>\n",
       "      <td>-0.507717</td>\n",
       "      <td>-0.494921</td>\n",
       "      <td>-0.03092</td>\n",
       "      <td>-1.313987</td>\n",
       "      <td>-0.434076</td>\n",
       "      <td>0.551235</td>\n",
       "      <td>-0.319539</td>\n",
       "      <td>-0.043748</td>\n",
       "      <td>0.639650</td>\n",
       "      <td>-1.149569</td>\n",
       "      <td>-0.435629</td>\n",
       "      <td>-0.275778</td>\n",
       "    </tr>\n",
       "    <tr>\n",
       "      <th>4</th>\n",
       "      <td>-0.353174</td>\n",
       "      <td>-0.051614</td>\n",
       "      <td>0.434422</td>\n",
       "      <td>-0.455423</td>\n",
       "      <td>-0.248980</td>\n",
       "      <td>-0.494921</td>\n",
       "      <td>-0.03092</td>\n",
       "      <td>0.761042</td>\n",
       "      <td>-0.434076</td>\n",
       "      <td>0.551235</td>\n",
       "      <td>-0.319539</td>\n",
       "      <td>-0.043748</td>\n",
       "      <td>0.639650</td>\n",
       "      <td>0.869892</td>\n",
       "      <td>-0.435629</td>\n",
       "      <td>-0.275778</td>\n",
       "    </tr>\n",
       "  </tbody>\n",
       "</table>\n",
       "</div>"
      ],
      "text/plain": [
       "     pclass       age     sibsp     parch      fare  age_is_nan  fare_is_nan  \\\n",
       "0  0.835808 -0.370162 -0.478911 -0.455423 -0.504782   -0.494921     -0.03092   \n",
       "1 -1.542157  0.904029 -0.478911 -0.455423  1.971555   -0.494921     -0.03092   \n",
       "2  0.835808 -0.131251 -0.478911 -0.455423 -0.508533    2.020526     -0.03092   \n",
       "3  0.835808 -0.927621 -0.478911 -0.455423 -0.507717   -0.494921     -0.03092   \n",
       "4 -0.353174 -0.051614  0.434422 -0.455423 -0.248980   -0.494921     -0.03092   \n",
       "\n",
       "   sex_male  cabin_Rare  cabin_missing  embarked_Q  embarked_Rare  embarked_S  \\\n",
       "0  0.761042   -0.434076       0.551235   -0.319539      -0.043748    0.639650   \n",
       "1 -1.313987    2.303742      -1.814107   -0.319539      -0.043748   -1.563355   \n",
       "2  0.761042   -0.434076       0.551235    3.129507      -0.043748   -1.563355   \n",
       "3 -1.313987   -0.434076       0.551235   -0.319539      -0.043748    0.639650   \n",
       "4  0.761042   -0.434076       0.551235   -0.319539      -0.043748    0.639650   \n",
       "\n",
       "   title_Mr  title_Mrs  title_Rare  \n",
       "0  0.869892  -0.435629   -0.275778  \n",
       "1 -1.149569  -0.435629   -0.275778  \n",
       "2  0.869892  -0.435629   -0.275778  \n",
       "3 -1.149569  -0.435629   -0.275778  \n",
       "4  0.869892  -0.435629   -0.275778  "
      ]
     },
     "execution_count": 51,
     "metadata": {},
     "output_type": "execute_result"
    }
   ],
   "source": [
    "X_train.head()"
   ]
  },
  {
   "cell_type": "code",
   "execution_count": 52,
   "metadata": {},
   "outputs": [
    {
     "data": {
      "text/html": [
       "<div>\n",
       "<style scoped>\n",
       "    .dataframe tbody tr th:only-of-type {\n",
       "        vertical-align: middle;\n",
       "    }\n",
       "\n",
       "    .dataframe tbody tr th {\n",
       "        vertical-align: top;\n",
       "    }\n",
       "\n",
       "    .dataframe thead th {\n",
       "        text-align: right;\n",
       "    }\n",
       "</style>\n",
       "<table border=\"1\" class=\"dataframe\">\n",
       "  <thead>\n",
       "    <tr style=\"text-align: right;\">\n",
       "      <th></th>\n",
       "      <th>pclass</th>\n",
       "      <th>age</th>\n",
       "      <th>sibsp</th>\n",
       "      <th>parch</th>\n",
       "      <th>fare</th>\n",
       "      <th>age_is_nan</th>\n",
       "      <th>fare_is_nan</th>\n",
       "      <th>sex_male</th>\n",
       "      <th>cabin_Rare</th>\n",
       "      <th>cabin_missing</th>\n",
       "      <th>embarked_Q</th>\n",
       "      <th>embarked_S</th>\n",
       "      <th>title_Mr</th>\n",
       "      <th>title_Mrs</th>\n",
       "      <th>title_Rare</th>\n",
       "      <th>embarked_Rare</th>\n",
       "    </tr>\n",
       "  </thead>\n",
       "  <tbody>\n",
       "    <tr>\n",
       "      <th>0</th>\n",
       "      <td>0.835808</td>\n",
       "      <td>0.665118</td>\n",
       "      <td>-0.478911</td>\n",
       "      <td>-0.455423</td>\n",
       "      <td>-0.505353</td>\n",
       "      <td>-0.494921</td>\n",
       "      <td>-0.03092</td>\n",
       "      <td>0.761042</td>\n",
       "      <td>-0.434076</td>\n",
       "      <td>0.551235</td>\n",
       "      <td>-0.319539</td>\n",
       "      <td>22.858259</td>\n",
       "      <td>0.639650</td>\n",
       "      <td>-1.149569</td>\n",
       "      <td>-0.435629</td>\n",
       "      <td>-0.275778</td>\n",
       "    </tr>\n",
       "    <tr>\n",
       "      <th>1</th>\n",
       "      <td>-0.353174</td>\n",
       "      <td>-0.688710</td>\n",
       "      <td>-0.478911</td>\n",
       "      <td>0.727773</td>\n",
       "      <td>-0.248980</td>\n",
       "      <td>-0.494921</td>\n",
       "      <td>-0.03092</td>\n",
       "      <td>-1.313987</td>\n",
       "      <td>-0.434076</td>\n",
       "      <td>0.551235</td>\n",
       "      <td>-0.319539</td>\n",
       "      <td>22.858259</td>\n",
       "      <td>-1.563355</td>\n",
       "      <td>-1.149569</td>\n",
       "      <td>-0.435629</td>\n",
       "      <td>-0.275778</td>\n",
       "    </tr>\n",
       "    <tr>\n",
       "      <th>2</th>\n",
       "      <td>-0.353174</td>\n",
       "      <td>0.983666</td>\n",
       "      <td>0.434422</td>\n",
       "      <td>-0.455423</td>\n",
       "      <td>-0.131595</td>\n",
       "      <td>-0.494921</td>\n",
       "      <td>-0.03092</td>\n",
       "      <td>0.761042</td>\n",
       "      <td>-0.434076</td>\n",
       "      <td>0.551235</td>\n",
       "      <td>-0.319539</td>\n",
       "      <td>22.858259</td>\n",
       "      <td>0.639650</td>\n",
       "      <td>-1.149569</td>\n",
       "      <td>-0.435629</td>\n",
       "      <td>-0.275778</td>\n",
       "    </tr>\n",
       "    <tr>\n",
       "      <th>3</th>\n",
       "      <td>0.835808</td>\n",
       "      <td>-0.131251</td>\n",
       "      <td>-0.478911</td>\n",
       "      <td>-0.455423</td>\n",
       "      <td>-0.376148</td>\n",
       "      <td>2.020526</td>\n",
       "      <td>-0.03092</td>\n",
       "      <td>0.761042</td>\n",
       "      <td>-0.434076</td>\n",
       "      <td>0.551235</td>\n",
       "      <td>-0.319539</td>\n",
       "      <td>22.858259</td>\n",
       "      <td>0.639650</td>\n",
       "      <td>-1.149569</td>\n",
       "      <td>-0.435629</td>\n",
       "      <td>-0.275778</td>\n",
       "    </tr>\n",
       "    <tr>\n",
       "      <th>4</th>\n",
       "      <td>-0.353174</td>\n",
       "      <td>-0.370162</td>\n",
       "      <td>-0.478911</td>\n",
       "      <td>-0.455423</td>\n",
       "      <td>-0.043556</td>\n",
       "      <td>-0.494921</td>\n",
       "      <td>-0.03092</td>\n",
       "      <td>0.761042</td>\n",
       "      <td>-0.434076</td>\n",
       "      <td>0.551235</td>\n",
       "      <td>-0.319539</td>\n",
       "      <td>22.858259</td>\n",
       "      <td>0.639650</td>\n",
       "      <td>-1.149569</td>\n",
       "      <td>-0.435629</td>\n",
       "      <td>-0.275778</td>\n",
       "    </tr>\n",
       "  </tbody>\n",
       "</table>\n",
       "</div>"
      ],
      "text/plain": [
       "     pclass       age     sibsp     parch      fare  age_is_nan  fare_is_nan  \\\n",
       "0  0.835808  0.665118 -0.478911 -0.455423 -0.505353   -0.494921     -0.03092   \n",
       "1 -0.353174 -0.688710 -0.478911  0.727773 -0.248980   -0.494921     -0.03092   \n",
       "2 -0.353174  0.983666  0.434422 -0.455423 -0.131595   -0.494921     -0.03092   \n",
       "3  0.835808 -0.131251 -0.478911 -0.455423 -0.376148    2.020526     -0.03092   \n",
       "4 -0.353174 -0.370162 -0.478911 -0.455423 -0.043556   -0.494921     -0.03092   \n",
       "\n",
       "   sex_male  cabin_Rare  cabin_missing  embarked_Q  embarked_S  title_Mr  \\\n",
       "0  0.761042   -0.434076       0.551235   -0.319539   22.858259  0.639650   \n",
       "1 -1.313987   -0.434076       0.551235   -0.319539   22.858259 -1.563355   \n",
       "2  0.761042   -0.434076       0.551235   -0.319539   22.858259  0.639650   \n",
       "3  0.761042   -0.434076       0.551235   -0.319539   22.858259  0.639650   \n",
       "4  0.761042   -0.434076       0.551235   -0.319539   22.858259  0.639650   \n",
       "\n",
       "   title_Mrs  title_Rare  embarked_Rare  \n",
       "0  -1.149569   -0.435629      -0.275778  \n",
       "1  -1.149569   -0.435629      -0.275778  \n",
       "2  -1.149569   -0.435629      -0.275778  \n",
       "3  -1.149569   -0.435629      -0.275778  \n",
       "4  -1.149569   -0.435629      -0.275778  "
      ]
     },
     "execution_count": 52,
     "metadata": {},
     "output_type": "execute_result"
    }
   ],
   "source": [
    "X_test.head()"
   ]
  },
  {
   "attachments": {},
   "cell_type": "markdown",
   "metadata": {},
   "source": [
    "## Train the Logistic Regression model\n",
    "\n",
    "- Set the regularization parameter to 0.0005\n",
    "- Set the seed to 0"
   ]
  },
  {
   "cell_type": "code",
   "execution_count": 53,
   "metadata": {},
   "outputs": [
    {
     "data": {
      "text/plain": [
       "LogisticRegression(C=0.0005, random_state=0)"
      ]
     },
     "execution_count": 53,
     "metadata": {},
     "output_type": "execute_result"
    }
   ],
   "source": [
    "model = LogisticRegression(C=0.0005,random_state=0)\n",
    "# train Lasso model and select features\n",
    "model.fit(X_train, y_train)"
   ]
  },
  {
   "attachments": {},
   "cell_type": "markdown",
   "metadata": {},
   "source": [
    "## Make predictions and evaluate model performance\n",
    "\n",
    "Determine:\n",
    "- roc-auc\n",
    "- accuracy\n",
    "\n",
    "**Important, remember that to determine the accuracy, you need the outcome 0, 1, referring to survived or not. But to determine the roc-auc you need the probability of survival.**"
   ]
  },
  {
   "cell_type": "code",
   "execution_count": 54,
   "metadata": {},
   "outputs": [
    {
     "name": "stdout",
     "output_type": "stream",
     "text": [
      "train roc-auc: 0.8431935857805255\n",
      "train accuracy: 0.7125119388729704\n",
      "\n",
      "test roc-auc: 0.7404012345679012\n",
      "test accuracy: 0.683206106870229\n",
      "\n"
     ]
    }
   ],
   "source": [
    "class_ = model.predict(X_train)\n",
    "pred = model.predict_proba(X_train)[:,1]\n",
    "\n",
    "# determine mse and rmse\n",
    "print('train roc-auc: {}'.format(roc_auc_score(y_train, pred)))\n",
    "print('train accuracy: {}'.format(accuracy_score(y_train, class_)))\n",
    "print()\n",
    "\n",
    "# make predictions for test set\n",
    "class_ = model.predict(X_test)\n",
    "pred = model.predict_proba(X_test)[:,1]\n",
    "\n",
    "# determine mse and rmse\n",
    "print('test roc-auc: {}'.format(roc_auc_score(y_test, pred)))\n",
    "print('test accuracy: {}'.format(accuracy_score(y_test, class_)))\n",
    "print()"
   ]
  },
  {
   "attachments": {},
   "cell_type": "markdown",
   "metadata": {},
   "source": [
    "That's it! Well done\n",
    "\n",
    "**Keep this code safe, as we will use this notebook later on, to build production code, in our next assignement!!**"
   ]
  },
  {
   "cell_type": "code",
   "execution_count": null,
   "metadata": {},
   "outputs": [],
   "source": []
  }
 ],
 "metadata": {
  "kernelspec": {
   "display_name": "deploy_ml_models",
   "language": "python",
   "name": "python3"
  },
  "language_info": {
   "codemirror_mode": {
    "name": "ipython",
    "version": 3
   },
   "file_extension": ".py",
   "mimetype": "text/x-python",
   "name": "python",
   "nbconvert_exporter": "python",
   "pygments_lexer": "ipython3",
   "version": "3.7.16"
  },
  "toc": {
   "base_numbering": 1,
   "nav_menu": {},
   "number_sections": true,
   "sideBar": true,
   "skip_h1_title": false,
   "title_cell": "Table of Contents",
   "title_sidebar": "Contents",
   "toc_cell": false,
   "toc_position": {},
   "toc_section_display": true,
   "toc_window_display": true
  }
 },
 "nbformat": 4,
 "nbformat_minor": 2
}
